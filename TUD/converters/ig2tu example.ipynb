{
 "cells": [
  {
   "cell_type": "markdown",
   "metadata": {},
   "source": [
    "# Install the python igraph library (if required)"
   ]
  },
  {
   "cell_type": "code",
   "execution_count": 1,
   "metadata": {},
   "outputs": [],
   "source": [
    "#!pip install python-igraph\n",
    "import igraph"
   ]
  },
  {
   "cell_type": "markdown",
   "metadata": {},
   "source": [
    "# Load the graphs from raphml format into iraph"
   ]
  },
  {
   "cell_type": "code",
   "execution_count": 1,
   "metadata": {},
   "outputs": [
    {
     "name": "stderr",
     "output_type": "stream",
     "text": [
      "100%|██████████| 1135/1135 [00:55<00:00, 20.47it/s]\n"
     ]
    }
   ],
   "source": [
    "import igraph as ig\n",
    "import os\n",
    "import pandas as pd\n",
    "import numpy as np\n",
    "import igraph as ig\n",
    "import tqdm\n",
    "path = \"/Users/maurizio/Downloads\" #@param {type:\"string\"}\n",
    "dataname = \"LUNG\" #@param [\"MUTAG\", \"PROTEINS\", \"KIDNEY\", \"Kidney_9.2\"]\n",
    "format = \"graphml\" #@param [\"graphml\", \"edgelist\"]\n",
    "datapath = f'{path}/{dataname}/{format}'\n",
    "labelfile = f'{path}/{dataname}/{dataname}.txt'\n",
    "dfl = pd.read_csv(labelfile, sep='\\t')\n",
    "filenames = [f for f in os.listdir(datapath) if f.endswith(format)]\n",
    "graphs, targets = [], []\n",
    "targets = []\n",
    "last_column = dfl.iloc[:,[0] + [-1]]\n",
    "for f in tqdm.tqdm(filenames):\n",
    "    if not f.endswith(format):\n",
    "       continue\n",
    "    graphs.append(ig.load(os.path.join(datapath, f)))\n",
    "    targets += last_column[last_column['Samples'] == f.split('.')[0]].iloc[:,-1:].values.tolist()\n",
    "from sklearn import preprocessing\n",
    "le = preprocessing.LabelEncoder()\n",
    "le.fit(np.ravel(targets))\n",
    "y = le.transform(np.ravel(targets))\n",
    "y = np.array(y)"
   ]
  },
  {
   "cell_type": "code",
   "execution_count": 2,
   "metadata": {},
   "outputs": [
    {
     "data": {
      "text/plain": [
       "Counter({'TCGA-LUAD': 594, 'TCGA-LUSC': 551})"
      ]
     },
     "execution_count": 2,
     "metadata": {},
     "output_type": "execute_result"
    }
   ],
   "source": [
    "from collections import Counter\n",
    "Counter(np.ravel(targets))"
   ]
  },
  {
   "cell_type": "markdown",
   "metadata": {},
   "source": [
    "# Convert the dataset"
   ]
  },
  {
   "cell_type": "code",
   "execution_count": 4,
   "metadata": {},
   "outputs": [
    {
     "name": "stdout",
     "output_type": "stream",
     "text": [
      "VERTEX ATTRIBUTES: []\n",
      "EDGE ATTRIBUTES: ['weight']\n",
      "Working directory  /Users/maurizio/BIONETdatasets/LUNG\n"
     ]
    },
    {
     "name": "stderr",
     "output_type": "stream",
     "text": [
      "100%|██████████| 1135/1135 [12:57<00:00,  1.46it/s]\n"
     ]
    }
   ],
   "source": [
    "import sys \n",
    "sys.path.append('..')\n",
    "from converters.ig2tu import ig2tu\n",
    "ig2tu(dataname, graphs, y, out_dir =f'/Users/maurizio/BIONETdatasets', iszipped=True,\n",
    "      vertex_label_as_attr=False, edge_label_as_attr=False, attr_as_label=None, edge_weight_as_label=True, \n",
    "      remove_vertex_attr=['id', 'name'])"
   ]
  }
 ],
 "metadata": {
  "interpreter": {
   "hash": "5cf590adf64b12f100e2631293f66eedf21812d31d21d345d3dafaac5b13c0f5"
  },
  "kernelspec": {
   "display_name": "Python 3.9.8 64-bit",
   "language": "python",
   "name": "python3"
  },
  "language_info": {
   "codemirror_mode": {
    "name": "ipython",
    "version": 3
   },
   "file_extension": ".py",
   "mimetype": "text/x-python",
   "name": "python",
   "nbconvert_exporter": "python",
   "pygments_lexer": "ipython3",
   "version": "3.9.8"
  },
  "orig_nbformat": 4
 },
 "nbformat": 4,
 "nbformat_minor": 2
}
