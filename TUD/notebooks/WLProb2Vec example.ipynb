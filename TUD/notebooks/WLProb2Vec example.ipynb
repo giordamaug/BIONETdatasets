{
  "cells": [
    {
      "cell_type": "markdown",
      "metadata": {},
      "source": [
        "<a href=\"https://colab.research.google.com/github/giordamaug/BIONETdatasets/blob/main/TUD/notebooks/WLProb2Vec example.ipynb\" target=\"_parent\"><img src=\"https://colab.research.google.com/assets/colab-badge.svg\" alt=\"Open In Colab\"/></a>\n",
        "[![Binder](https://mybinder.org/badge_logo.svg)](https://mybinder.org/v2/gh/giordamaug/BIONETdatasets/main?filepath=TUD%2Fnotebooks%2FWLProb2Vec+example.ipynb)\n",
        "<a href=\"https://kaggle.com/kernels/welcome?src=https://github.com/giordamaug/BIONETdatasets/blob/main/TUD/notebooks/WLProb2Vec example.ipynb\" target=\"_parent\"><img src=\"https://kaggle.com/static/images/open-in-kaggle.svg\" alt=\"Open In Kaggle\"/></a>"
      ]
    },
    {
      "cell_type": "markdown",
      "metadata": {
        "id": "kux3bRpFEEoM"
      },
      "source": [
        "# Cloning BIONETdatasets repository"
      ]
    },
    {
      "cell_type": "code",
      "execution_count": null,
      "metadata": {
        "id": "_CemjxolD1na"
      },
      "outputs": [],
      "source": [
        "!git clone http://github.com/giordamaug/BIONETdatasets"
      ]
    },
    {
      "cell_type": "markdown",
      "metadata": {},
      "source": [
        "# Install WLProb2Vec and python-igraph (if required)"
      ]
    },
    {
      "cell_type": "code",
      "execution_count": 1,
      "metadata": {},
      "outputs": [
        {
          "name": "stdout",
          "output_type": "stream",
          "text": [
            "\u001b[33mDEPRECATION: Configuring installation scheme with distutils config files is deprecated and will no longer work in the near future. If you are using a Homebrew or Linuxbrew Python, please see discussion at https://github.com/Homebrew/homebrew-core/issues/76621\u001b[0m\n"
          ]
        }
      ],
      "source": [
        "# Install python-igraph (if required)\n",
        "!pip install -q git+https://github.com/cds-group/WLProb2vec.git\n",
        "!pip install -q python-igraph"
      ]
    },
    {
      "cell_type": "markdown",
      "metadata": {},
      "source": [
        "# Load dataset from pickle dump"
      ]
    },
    {
      "cell_type": "code",
      "execution_count": 16,
      "metadata": {},
      "outputs": [
        {
          "data": {
            "text/plain": [
              "Counter({0: 173, 1: 529})"
            ]
          },
          "execution_count": 16,
          "metadata": {},
          "output_type": "execute_result"
        }
      ],
      "source": [
        "import pickle\n",
        "sys.path.append('..')\n",
        "from wrappers.igraph_wrapper import MyTUDataset\n",
        "with open('BRAIN.obj', 'rb') as handle:\n",
        "    dataset = pickle.load(handle) \n",
        "from collections import Counter\n",
        "Counter(dataset.graph_labels)"
      ]
    },
    {
      "cell_type": "markdown",
      "metadata": {},
      "source": [
        "# Load the dataset"
      ]
    },
    {
      "cell_type": "code",
      "execution_count": 14,
      "metadata": {},
      "outputs": [
        {
          "name": "stderr",
          "output_type": "stream",
          "text": [
            "Getting node indices:: 100%|██████████| 188/188 [00:00<00:00, 17140.82it/s]\n",
            "Loading nodes:: 100%|██████████| 188/188 [00:00<00:00, 15698.06it/s]\n",
            "Loading edges:: 100%|██████████| 7442/7442 [00:00<00:00, 100247.65it/s]\n"
          ]
        },
        {
          "name": "stdout",
          "output_type": "stream",
          "text": [
            "Loading node labels...\n",
            "Loading edge labels...\n",
            "Loading graph labels...\n",
            "IGRAPH UN-- 17 19 -- MUTAG_1\n",
            "+ attr: class (g), name (g), label (v), name (v), label (e)\n",
            "+ edges (vertex names):\n",
            "0--1, 1--2, 2--3, 3--4, 4--5, 0--5, 4--6, 6--7, 7--8, 8--9, 3--9, 9--10,\n",
            "10--11, 11--12, 12--13, 8--13, 12--14, 14--15, 14--16\n"
          ]
        }
      ],
      "source": [
        "dataname = 'MUTAG'\n",
        "import sys, os\n",
        "sys.path.append(os.path.abspath('BIONETdatasets/TUD'))\n",
        "sys.path.append(os.path.abspath('..'))\n",
        "sys.path.append(os.path.abspath('../../methods'))\n",
        "from wrappers.igraph_wrapper import MyTUDataset\n",
        "import shutil\n",
        "shutil.unpack_archive(f'../datasets/{dataname}.zip')\n",
        "#shutil.unpack_archive(f'BIONETdatasets/TUD/datasets/{dataname}.zip')\n",
        "dataset = MyTUDataset(dataname, path=f'{dataname}', verbose=True)\n",
        "print(dataset.graph_list[0])"
      ]
    },
    {
      "cell_type": "markdown",
      "metadata": {},
      "source": [
        "# Create model and evaluate"
      ]
    },
    {
      "cell_type": "code",
      "execution_count": 12,
      "metadata": {},
      "outputs": [
        {
          "name": "stdout",
          "output_type": "stream",
          "text": [
            "TRANSDUCTIVE EMBEDDING:\n",
            "[[ 6  1]\n",
            " [ 0 12]] Acc. 0.9473684210526315\n",
            "INDUCTIVE EMBEDDING:\n",
            "[[ 5  2]\n",
            " [ 1 11]] Acc. 0.8421052631578947\n"
          ]
        }
      ],
      "source": [
        "import sys, os\n",
        "import numpy as np\n",
        "sys.path.append(os.path.abspath('BIONETdatasets/methods'))\n",
        "if 'WLProb2Vec.wlprob2vec' in sys.modules:  \n",
        "    del sys.modules[\"WLProb2Vec.wlprob2vec\"]\n",
        "if 'WLProb2Vec.WeisfeilerLehmanExt' in sys.modules:  \n",
        "    del sys.modules[\"WLProb2Vec.WeisfeilerLehmanExt\"]\n",
        "from WLProb2Vec.wlprob2vec import wlprob2vec\n",
        "#from netwld2v.WeisfeilerLehman import WeisfeilerLehman\n",
        "#from netwld2v.graph2vec import Graph2Vec\n",
        "\n",
        "from sklearn.model_selection import train_test_split\n",
        "from sklearn.svm import SVC\n",
        "from sklearn.metrics import confusion_matrix,matthews_corrcoef,accuracy_score,precision_score,f1_score, recall_score\n",
        "from sklearn.model_selection import StratifiedKFold\n",
        "from wrappers.igraph_wrapper import MyTUDataset\n",
        "from time import time\n",
        "# Set optimal params\n",
        "params = {\"annotation\" : 'ndd', \"wl_iterations\" : 3, \"dimensions\": 64, \"epochs\": 100, \"min_count\": 2,  \n",
        "  \"seed\": 1, \"workers\": 3, \"vertex_label\": 'label', \"encodew\": True}\n",
        "# Transductive embedding\n",
        "print(\"TRANSDUCTIVE EMBEDDING:\")\n",
        "#model = Graph2Vec(**params)\n",
        "model = wlprob2vec(**params)\n",
        "model.fit(dataset.graph_list)\n",
        "X = model.get_embedding()\n",
        "y = dataset.graph_labels\n",
        "X_train, X_test, y_train, y_test = train_test_split(X, y, test_size=0.10, random_state=42)\n",
        "clf = SVC(kernel='linear')\n",
        "preds = clf.fit(X_train,y_train).predict(X_test)\n",
        "print(confusion_matrix(y_test, preds),f'Acc. {accuracy_score(y_test, preds)}')\n",
        "# Inductive embedding\n",
        "print(\"INDUCTIVE EMBEDDING:\")\n",
        "G_train, G_test, y_train, y_test = train_test_split(dataset.graph_list, y, test_size=0.10, random_state=42)\n",
        "model = wlprob2vec(**params)\n",
        "model.fit(G_train)\n",
        "X_train = model.get_embedding()\n",
        "X_test = np.array(model.infer_vector(G_test))\n",
        "clf = SVC(kernel='linear')\n",
        "preds = clf.fit(X_train,y_train).predict(X_test)\n",
        "print(confusion_matrix(y_test, preds),f'Acc. {accuracy_score(y_test, preds)}')"
      ]
    },
    {
      "cell_type": "code",
      "execution_count": 17,
      "metadata": {},
      "outputs": [
        {
          "name": "stderr",
          "output_type": "stream",
          "text": [
            "fold: 100%|██████████| 10/10 [00:00<00:00, 18.06it/s]"
          ]
        },
        {
          "name": "stdout",
          "output_type": "stream",
          "text": [
            "\n",
            "[[143  30]\n",
            " [  0 529]]\n",
            "Acc\t95.72±1.43\n",
            "Prec\t0.97±0.01\n",
            "F1\t0.94±0.02\n",
            "Recall\t0.91±0.03\n",
            "MCC\t0.88±0.04\n",
            "Elapsed time 0:49:52\n"
          ]
        },
        {
          "name": "stderr",
          "output_type": "stream",
          "text": [
            "\n"
          ]
        }
      ],
      "source": [
        "import tqdm as tq\n",
        "from time import time\n",
        "import numpy as np\n",
        "from sklearn.model_selection import train_test_split\n",
        "from sklearn.svm import SVC\n",
        "from sklearn.metrics import confusion_matrix,matthews_corrcoef,accuracy_score,precision_score,f1_score, recall_score\n",
        "from sklearn.model_selection import StratifiedKFold\n",
        "from wrappers.igraph_wrapper import MyTUDataset\n",
        "sys.path.append(os.path.abspath('BIONETdatasets/methods'))\n",
        "from WLProb2Vec.wlprob2vec import wlprob2vec\n",
        "params = {\"annotation\" : 'ndd', \"wl_iterations\" : 3, \"dimensions\": 128, \"epochs\": 100, \"min_count\": 2,  \n",
        "   \"seed\": 1, \"workers\": 3, \"vertex_label\": None, \"encodew\": True}\n",
        "start = time()\n",
        "G = np.array(dataset.graph_list)\n",
        "y = np.array(dataset.graph_labels)\n",
        "cv_folds = 10 #@param {type:\"slider\", min:2, max:10, step:1}\n",
        "tot_preds = np.array([])\n",
        "tot_targets = np.array([])\n",
        "tot_acc = np.array([])\n",
        "tot_prec = np.array([])\n",
        "tot_F1 = np.array([])\n",
        "tot_recall = np.array([])\n",
        "tot_MCC = np.array([])\n",
        "model = wlprob2vec(**params)\n",
        "X = model.fit(G).get_embedding()\n",
        "skf = StratifiedKFold(n_splits=cv_folds, shuffle=True, random_state=42)\n",
        "for train_index, test_index in tq.tqdm(list(skf.split(G,y)), desc=\"fold: \"):\n",
        "    X_train, X_test = X[train_index], X[test_index]\n",
        "    y_train, y_test = y[train_index], y[test_index]\n",
        "    y_pred = SVC(kernel='linear').fit(X_train,y_train).predict(X_test)\n",
        "    tot_preds = np.append(tot_preds,y_pred)\n",
        "    tot_targets = np.append(tot_targets,y_test)\n",
        "    tot_acc = np.append(tot_acc, accuracy_score(y_test, y_pred))\n",
        "    tot_prec = np.append(tot_prec, precision_score(y_test, y_pred, average='macro'))\n",
        "    tot_F1 = np.append(tot_F1, f1_score(y_test, y_pred, average='macro'))\n",
        "    tot_recall = np.append(tot_recall, recall_score(y_test, y_pred, average='macro'))\n",
        "    tot_MCC = np.append(tot_MCC, matthews_corrcoef(y_test, y_pred))\n",
        "temp = time() - start\n",
        "hours = temp//3600\n",
        "temp = temp - 3600*hours\n",
        "minutes = temp//60\n",
        "seconds = temp - 60*minutes\n",
        "expired = '%d:%d:%d' %(hours,minutes,seconds)\n",
        "print()\n",
        "print(confusion_matrix(tot_targets, tot_preds))\n",
        "print(\"Acc\\t%.2f\\u00B1%.2f\"%((tot_acc * 100).mean(), (tot_acc * 100).std()))\n",
        "print(\"Prec\\t%.2f\\u00B1%.2f\"%(tot_prec.mean(), tot_prec.std()))\n",
        "print(\"F1\\t%.2f\\u00B1%.2f\"%(tot_F1.mean(), tot_F1.std()))\n",
        "print(\"Recall\\t%.2f\\u00B1%.2f\"%(tot_recall.mean(), tot_recall.std()))\n",
        "print('MCC\\t%.2f\\u00B1%.2f'%(tot_MCC.mean(), tot_MCC.std()))\n",
        "print('Elapsed time', expired)"
      ]
    },
    {
      "cell_type": "code",
      "execution_count": 14,
      "metadata": {},
      "outputs": [
        {
          "name": "stderr",
          "output_type": "stream",
          "text": [
            "fold: 100%|██████████| 10/10 [00:15<00:00,  1.56s/it]"
          ]
        },
        {
          "name": "stdout",
          "output_type": "stream",
          "text": [
            "\n",
            "[[ 45  18]\n",
            " [ 21 104]]\n",
            "Acc\t79.24±7.27\n",
            "Prec\t0.78±0.08\n",
            "F1\t0.76±0.09\n",
            "Recall\t0.77±0.09\n",
            "MCC\t0.55±0.17\n",
            "Elapsed time 0:0:15\n"
          ]
        },
        {
          "name": "stderr",
          "output_type": "stream",
          "text": [
            "\n"
          ]
        }
      ],
      "source": [
        "import tqdm as tq\n",
        "#params = {\"annotation\" : 'ndd', \"wl_iterations\" : 4, \"dimensions\": 128, \"epochs\": 100, \"min_count\": 2,  \n",
        "#   \"seed\": 1, \"workers\": 3, \"vertex_label\": 'label', \"encodew\": True}\n",
        "start = time()\n",
        "G = np.array(dataset.graph_list)\n",
        "y = np.array(dataset.graph_labels)\n",
        "cv_folds = 10 #@param {type:\"slider\", min:2, max:10, step:1}\n",
        "tot_preds = np.array([])\n",
        "tot_targets = np.array([])\n",
        "tot_acc = np.array([])\n",
        "tot_prec = np.array([])\n",
        "tot_F1 = np.array([])\n",
        "tot_recall = np.array([])\n",
        "tot_MCC = np.array([])\n",
        "skf = StratifiedKFold(n_splits=cv_folds, shuffle=True, random_state=42)\n",
        "for train_index, test_index in tq.tqdm(list(skf.split(G,y)), desc=\"fold: \"):\n",
        "    G_train, G_test = G[train_index], G[test_index]\n",
        "    y_train, y_test = y[train_index], y[test_index]\n",
        "    model = wlprob2vec(**params)\n",
        "    X_train = model.fit(G_train).get_embedding()\n",
        "    X_test = np.array(model.infer_vector(G_test))\n",
        "    y_pred = SVC(kernel='linear').fit(X_train,y_train).predict(X_test)\n",
        "    tot_preds = np.append(tot_preds,y_pred)\n",
        "    tot_targets = np.append(tot_targets,y_test)\n",
        "    tot_acc = np.append(tot_acc, accuracy_score(y_test, y_pred))\n",
        "    tot_prec = np.append(tot_prec, precision_score(y_test, y_pred, average='macro'))\n",
        "    tot_F1 = np.append(tot_F1, f1_score(y_test, y_pred, average='macro'))\n",
        "    tot_recall = np.append(tot_recall, recall_score(y_test, y_pred, average='macro'))\n",
        "    tot_MCC = np.append(tot_MCC, matthews_corrcoef(y_test, y_pred))\n",
        "temp = time() - start\n",
        "hours = temp//3600\n",
        "temp = temp - 3600*hours\n",
        "minutes = temp//60\n",
        "seconds = temp - 60*minutes\n",
        "expired = '%d:%d:%d' %(hours,minutes,seconds)\n",
        "print()\n",
        "print(confusion_matrix(tot_targets, tot_preds))\n",
        "print(\"Acc\\t%.2f\\u00B1%.2f\"%((tot_acc * 100).mean(), (tot_acc * 100).std()))\n",
        "print(\"Prec\\t%.2f\\u00B1%.2f\"%(tot_prec.mean(), tot_prec.std()))\n",
        "print(\"F1\\t%.2f\\u00B1%.2f\"%(tot_F1.mean(), tot_F1.std()))\n",
        "print(\"Recall\\t%.2f\\u00B1%.2f\"%(tot_recall.mean(), tot_recall.std()))\n",
        "print('MCC\\t%.2f\\u00B1%.2f'%(tot_MCC.mean(), tot_MCC.std()))\n",
        "print('Elapsed time', expired)"
      ]
    }
  ],
  "metadata": {
    "colab": {
      "name": "NetPro2Vec example.ipynb",
      "provenance": []
    },
    "interpreter": {
      "hash": "bc6e667b201477635ba32fc377e71e93fe0ce3fc2d2fb508931525558f52d375"
    },
    "kernelspec": {
      "display_name": "Python 3.8.3 64-bit ('base': conda)",
      "name": "python3"
    },
    "language_info": {
      "codemirror_mode": {
        "name": "ipython",
        "version": 3
      },
      "file_extension": ".py",
      "mimetype": "text/x-python",
      "name": "python",
      "nbconvert_exporter": "python",
      "pygments_lexer": "ipython3",
      "version": "3.9.8"
    },
    "widgets": {
      "application/vnd.jupyter.widget-state+json": {
        "00af3f74eb2146cb8859070b5b100765": {
          "model_module": "@jupyter-widgets/base",
          "model_module_version": "1.2.0",
          "model_name": "LayoutModel",
          "state": {
            "_model_module": "@jupyter-widgets/base",
            "_model_module_version": "1.2.0",
            "_model_name": "LayoutModel",
            "_view_count": null,
            "_view_module": "@jupyter-widgets/base",
            "_view_module_version": "1.2.0",
            "_view_name": "LayoutView",
            "align_content": null,
            "align_items": null,
            "align_self": null,
            "border": null,
            "bottom": null,
            "display": null,
            "flex": null,
            "flex_flow": null,
            "grid_area": null,
            "grid_auto_columns": null,
            "grid_auto_flow": null,
            "grid_auto_rows": null,
            "grid_column": null,
            "grid_gap": null,
            "grid_row": null,
            "grid_template_areas": null,
            "grid_template_columns": null,
            "grid_template_rows": null,
            "height": null,
            "justify_content": null,
            "justify_items": null,
            "left": null,
            "margin": null,
            "max_height": null,
            "max_width": null,
            "min_height": null,
            "min_width": null,
            "object_fit": null,
            "object_position": null,
            "order": null,
            "overflow": null,
            "overflow_x": null,
            "overflow_y": null,
            "padding": null,
            "right": null,
            "top": null,
            "visibility": null,
            "width": null
          }
        },
        "04e81c2e76034774866591cdc9b61f21": {
          "model_module": "@jupyter-widgets/controls",
          "model_module_version": "1.5.0",
          "model_name": "DescriptionStyleModel",
          "state": {
            "_model_module": "@jupyter-widgets/controls",
            "_model_module_version": "1.5.0",
            "_model_name": "DescriptionStyleModel",
            "_view_count": null,
            "_view_module": "@jupyter-widgets/base",
            "_view_module_version": "1.2.0",
            "_view_name": "StyleView",
            "description_width": ""
          }
        },
        "0ca16a072b294a63be7c2038e302cb26": {
          "model_module": "@jupyter-widgets/controls",
          "model_module_version": "1.5.0",
          "model_name": "DescriptionStyleModel",
          "state": {
            "_model_module": "@jupyter-widgets/controls",
            "_model_module_version": "1.5.0",
            "_model_name": "DescriptionStyleModel",
            "_view_count": null,
            "_view_module": "@jupyter-widgets/base",
            "_view_module_version": "1.2.0",
            "_view_name": "StyleView",
            "description_width": ""
          }
        },
        "0d27ea473b39453480daa7161a99f800": {
          "model_module": "@jupyter-widgets/controls",
          "model_module_version": "1.5.0",
          "model_name": "HBoxModel",
          "state": {
            "_dom_classes": [],
            "_model_module": "@jupyter-widgets/controls",
            "_model_module_version": "1.5.0",
            "_model_name": "HBoxModel",
            "_view_count": null,
            "_view_module": "@jupyter-widgets/controls",
            "_view_module_version": "1.5.0",
            "_view_name": "HBoxView",
            "box_style": "",
            "children": [
              "IPY_MODEL_730959b7ad1e4e8bb3f6147daec9c767",
              "IPY_MODEL_bb4f1ab706194c6ab44d716272d62f07",
              "IPY_MODEL_4552124c00eb42d0afdbbfeb35817e2f"
            ],
            "layout": "IPY_MODEL_141e692526cc419a91735aa1ca19041c"
          }
        },
        "141e692526cc419a91735aa1ca19041c": {
          "model_module": "@jupyter-widgets/base",
          "model_module_version": "1.2.0",
          "model_name": "LayoutModel",
          "state": {
            "_model_module": "@jupyter-widgets/base",
            "_model_module_version": "1.2.0",
            "_model_name": "LayoutModel",
            "_view_count": null,
            "_view_module": "@jupyter-widgets/base",
            "_view_module_version": "1.2.0",
            "_view_name": "LayoutView",
            "align_content": null,
            "align_items": null,
            "align_self": null,
            "border": null,
            "bottom": null,
            "display": null,
            "flex": null,
            "flex_flow": null,
            "grid_area": null,
            "grid_auto_columns": null,
            "grid_auto_flow": null,
            "grid_auto_rows": null,
            "grid_column": null,
            "grid_gap": null,
            "grid_row": null,
            "grid_template_areas": null,
            "grid_template_columns": null,
            "grid_template_rows": null,
            "height": null,
            "justify_content": null,
            "justify_items": null,
            "left": null,
            "margin": null,
            "max_height": null,
            "max_width": null,
            "min_height": null,
            "min_width": null,
            "object_fit": null,
            "object_position": null,
            "order": null,
            "overflow": null,
            "overflow_x": null,
            "overflow_y": null,
            "padding": null,
            "right": null,
            "top": null,
            "visibility": null,
            "width": null
          }
        },
        "260ba4200336427ca82df05eed8489bc": {
          "model_module": "@jupyter-widgets/controls",
          "model_module_version": "1.5.0",
          "model_name": "HTMLModel",
          "state": {
            "_dom_classes": [],
            "_model_module": "@jupyter-widgets/controls",
            "_model_module_version": "1.5.0",
            "_model_name": "HTMLModel",
            "_view_count": null,
            "_view_module": "@jupyter-widgets/controls",
            "_view_module_version": "1.5.0",
            "_view_name": "HTMLView",
            "description": "",
            "description_tooltip": null,
            "layout": "IPY_MODEL_a6c1a10031c04e8a8191f8fa3cd0a167",
            "placeholder": "​",
            "style": "IPY_MODEL_6fe72a24a76d4a839f0b45d1965cb3a3",
            "value": "100%"
          }
        },
        "2e1ee71260134f528aed3c42c8bf17fc": {
          "model_module": "@jupyter-widgets/base",
          "model_module_version": "1.2.0",
          "model_name": "LayoutModel",
          "state": {
            "_model_module": "@jupyter-widgets/base",
            "_model_module_version": "1.2.0",
            "_model_name": "LayoutModel",
            "_view_count": null,
            "_view_module": "@jupyter-widgets/base",
            "_view_module_version": "1.2.0",
            "_view_name": "LayoutView",
            "align_content": null,
            "align_items": null,
            "align_self": null,
            "border": null,
            "bottom": null,
            "display": null,
            "flex": null,
            "flex_flow": null,
            "grid_area": null,
            "grid_auto_columns": null,
            "grid_auto_flow": null,
            "grid_auto_rows": null,
            "grid_column": null,
            "grid_gap": null,
            "grid_row": null,
            "grid_template_areas": null,
            "grid_template_columns": null,
            "grid_template_rows": null,
            "height": null,
            "justify_content": null,
            "justify_items": null,
            "left": null,
            "margin": null,
            "max_height": null,
            "max_width": null,
            "min_height": null,
            "min_width": null,
            "object_fit": null,
            "object_position": null,
            "order": null,
            "overflow": null,
            "overflow_x": null,
            "overflow_y": null,
            "padding": null,
            "right": null,
            "top": null,
            "visibility": null,
            "width": null
          }
        },
        "3a65aee3fc8e4b6b9423509c03b10258": {
          "model_module": "@jupyter-widgets/base",
          "model_module_version": "1.2.0",
          "model_name": "LayoutModel",
          "state": {
            "_model_module": "@jupyter-widgets/base",
            "_model_module_version": "1.2.0",
            "_model_name": "LayoutModel",
            "_view_count": null,
            "_view_module": "@jupyter-widgets/base",
            "_view_module_version": "1.2.0",
            "_view_name": "LayoutView",
            "align_content": null,
            "align_items": null,
            "align_self": null,
            "border": null,
            "bottom": null,
            "display": null,
            "flex": null,
            "flex_flow": null,
            "grid_area": null,
            "grid_auto_columns": null,
            "grid_auto_flow": null,
            "grid_auto_rows": null,
            "grid_column": null,
            "grid_gap": null,
            "grid_row": null,
            "grid_template_areas": null,
            "grid_template_columns": null,
            "grid_template_rows": null,
            "height": null,
            "justify_content": null,
            "justify_items": null,
            "left": null,
            "margin": null,
            "max_height": null,
            "max_width": null,
            "min_height": null,
            "min_width": null,
            "object_fit": null,
            "object_position": null,
            "order": null,
            "overflow": null,
            "overflow_x": null,
            "overflow_y": null,
            "padding": null,
            "right": null,
            "top": null,
            "visibility": null,
            "width": null
          }
        },
        "4552124c00eb42d0afdbbfeb35817e2f": {
          "model_module": "@jupyter-widgets/controls",
          "model_module_version": "1.5.0",
          "model_name": "HTMLModel",
          "state": {
            "_dom_classes": [],
            "_model_module": "@jupyter-widgets/controls",
            "_model_module_version": "1.5.0",
            "_model_name": "HTMLModel",
            "_view_count": null,
            "_view_module": "@jupyter-widgets/controls",
            "_view_module_version": "1.5.0",
            "_view_name": "HTMLView",
            "description": "",
            "description_tooltip": null,
            "layout": "IPY_MODEL_b55af098d5574c549d938f4b0cdd182a",
            "placeholder": "​",
            "style": "IPY_MODEL_4931577c69184c2f9a2fd2b677e50f8d",
            "value": " 299/299 [00:24&lt;00:00, 12.51it/s]"
          }
        },
        "4931577c69184c2f9a2fd2b677e50f8d": {
          "model_module": "@jupyter-widgets/controls",
          "model_module_version": "1.5.0",
          "model_name": "DescriptionStyleModel",
          "state": {
            "_model_module": "@jupyter-widgets/controls",
            "_model_module_version": "1.5.0",
            "_model_name": "DescriptionStyleModel",
            "_view_count": null,
            "_view_module": "@jupyter-widgets/base",
            "_view_module_version": "1.2.0",
            "_view_name": "StyleView",
            "description_width": ""
          }
        },
        "52d91218eabd4f06839f860ae853363f": {
          "model_module": "@jupyter-widgets/base",
          "model_module_version": "1.2.0",
          "model_name": "LayoutModel",
          "state": {
            "_model_module": "@jupyter-widgets/base",
            "_model_module_version": "1.2.0",
            "_model_name": "LayoutModel",
            "_view_count": null,
            "_view_module": "@jupyter-widgets/base",
            "_view_module_version": "1.2.0",
            "_view_name": "LayoutView",
            "align_content": null,
            "align_items": null,
            "align_self": null,
            "border": null,
            "bottom": null,
            "display": null,
            "flex": null,
            "flex_flow": null,
            "grid_area": null,
            "grid_auto_columns": null,
            "grid_auto_flow": null,
            "grid_auto_rows": null,
            "grid_column": null,
            "grid_gap": null,
            "grid_row": null,
            "grid_template_areas": null,
            "grid_template_columns": null,
            "grid_template_rows": null,
            "height": null,
            "justify_content": null,
            "justify_items": null,
            "left": null,
            "margin": null,
            "max_height": null,
            "max_width": null,
            "min_height": null,
            "min_width": null,
            "object_fit": null,
            "object_position": null,
            "order": null,
            "overflow": null,
            "overflow_x": null,
            "overflow_y": null,
            "padding": null,
            "right": null,
            "top": null,
            "visibility": null,
            "width": null
          }
        },
        "6b29a2cdcfd84ac1b554c484142d80a7": {
          "model_module": "@jupyter-widgets/controls",
          "model_module_version": "1.5.0",
          "model_name": "HTMLModel",
          "state": {
            "_dom_classes": [],
            "_model_module": "@jupyter-widgets/controls",
            "_model_module_version": "1.5.0",
            "_model_name": "HTMLModel",
            "_view_count": null,
            "_view_module": "@jupyter-widgets/controls",
            "_view_module_version": "1.5.0",
            "_view_name": "HTMLView",
            "description": "",
            "description_tooltip": null,
            "layout": "IPY_MODEL_52d91218eabd4f06839f860ae853363f",
            "placeholder": "​",
            "style": "IPY_MODEL_0ca16a072b294a63be7c2038e302cb26",
            "value": " 2039/2039 [00:01&lt;00:00, 1492.74it/s]"
          }
        },
        "6fe72a24a76d4a839f0b45d1965cb3a3": {
          "model_module": "@jupyter-widgets/controls",
          "model_module_version": "1.5.0",
          "model_name": "DescriptionStyleModel",
          "state": {
            "_model_module": "@jupyter-widgets/controls",
            "_model_module_version": "1.5.0",
            "_model_name": "DescriptionStyleModel",
            "_view_count": null,
            "_view_module": "@jupyter-widgets/base",
            "_view_module_version": "1.2.0",
            "_view_name": "StyleView",
            "description_width": ""
          }
        },
        "730959b7ad1e4e8bb3f6147daec9c767": {
          "model_module": "@jupyter-widgets/controls",
          "model_module_version": "1.5.0",
          "model_name": "HTMLModel",
          "state": {
            "_dom_classes": [],
            "_model_module": "@jupyter-widgets/controls",
            "_model_module_version": "1.5.0",
            "_model_name": "HTMLModel",
            "_view_count": null,
            "_view_module": "@jupyter-widgets/controls",
            "_view_module_version": "1.5.0",
            "_view_name": "HTMLView",
            "description": "",
            "description_tooltip": null,
            "layout": "IPY_MODEL_d2cd424cd9b64883a117f2bac8ec7d6c",
            "placeholder": "​",
            "style": "IPY_MODEL_04e81c2e76034774866591cdc9b61f21",
            "value": "100%"
          }
        },
        "a6c1a10031c04e8a8191f8fa3cd0a167": {
          "model_module": "@jupyter-widgets/base",
          "model_module_version": "1.2.0",
          "model_name": "LayoutModel",
          "state": {
            "_model_module": "@jupyter-widgets/base",
            "_model_module_version": "1.2.0",
            "_model_name": "LayoutModel",
            "_view_count": null,
            "_view_module": "@jupyter-widgets/base",
            "_view_module_version": "1.2.0",
            "_view_name": "LayoutView",
            "align_content": null,
            "align_items": null,
            "align_self": null,
            "border": null,
            "bottom": null,
            "display": null,
            "flex": null,
            "flex_flow": null,
            "grid_area": null,
            "grid_auto_columns": null,
            "grid_auto_flow": null,
            "grid_auto_rows": null,
            "grid_column": null,
            "grid_gap": null,
            "grid_row": null,
            "grid_template_areas": null,
            "grid_template_columns": null,
            "grid_template_rows": null,
            "height": null,
            "justify_content": null,
            "justify_items": null,
            "left": null,
            "margin": null,
            "max_height": null,
            "max_width": null,
            "min_height": null,
            "min_width": null,
            "object_fit": null,
            "object_position": null,
            "order": null,
            "overflow": null,
            "overflow_x": null,
            "overflow_y": null,
            "padding": null,
            "right": null,
            "top": null,
            "visibility": null,
            "width": null
          }
        },
        "a7fa487944d04b42b0f23278cc39ba8c": {
          "model_module": "@jupyter-widgets/controls",
          "model_module_version": "1.5.0",
          "model_name": "HBoxModel",
          "state": {
            "_dom_classes": [],
            "_model_module": "@jupyter-widgets/controls",
            "_model_module_version": "1.5.0",
            "_model_name": "HBoxModel",
            "_view_count": null,
            "_view_module": "@jupyter-widgets/controls",
            "_view_module_version": "1.5.0",
            "_view_name": "HBoxView",
            "box_style": "",
            "children": [
              "IPY_MODEL_260ba4200336427ca82df05eed8489bc",
              "IPY_MODEL_fef2c2f19b24437abeba05878fa414f7",
              "IPY_MODEL_6b29a2cdcfd84ac1b554c484142d80a7"
            ],
            "layout": "IPY_MODEL_3a65aee3fc8e4b6b9423509c03b10258"
          }
        },
        "b55af098d5574c549d938f4b0cdd182a": {
          "model_module": "@jupyter-widgets/base",
          "model_module_version": "1.2.0",
          "model_name": "LayoutModel",
          "state": {
            "_model_module": "@jupyter-widgets/base",
            "_model_module_version": "1.2.0",
            "_model_name": "LayoutModel",
            "_view_count": null,
            "_view_module": "@jupyter-widgets/base",
            "_view_module_version": "1.2.0",
            "_view_name": "LayoutView",
            "align_content": null,
            "align_items": null,
            "align_self": null,
            "border": null,
            "bottom": null,
            "display": null,
            "flex": null,
            "flex_flow": null,
            "grid_area": null,
            "grid_auto_columns": null,
            "grid_auto_flow": null,
            "grid_auto_rows": null,
            "grid_column": null,
            "grid_gap": null,
            "grid_row": null,
            "grid_template_areas": null,
            "grid_template_columns": null,
            "grid_template_rows": null,
            "height": null,
            "justify_content": null,
            "justify_items": null,
            "left": null,
            "margin": null,
            "max_height": null,
            "max_width": null,
            "min_height": null,
            "min_width": null,
            "object_fit": null,
            "object_position": null,
            "order": null,
            "overflow": null,
            "overflow_x": null,
            "overflow_y": null,
            "padding": null,
            "right": null,
            "top": null,
            "visibility": null,
            "width": null
          }
        },
        "bb4f1ab706194c6ab44d716272d62f07": {
          "model_module": "@jupyter-widgets/controls",
          "model_module_version": "1.5.0",
          "model_name": "FloatProgressModel",
          "state": {
            "_dom_classes": [],
            "_model_module": "@jupyter-widgets/controls",
            "_model_module_version": "1.5.0",
            "_model_name": "FloatProgressModel",
            "_view_count": null,
            "_view_module": "@jupyter-widgets/controls",
            "_view_module_version": "1.5.0",
            "_view_name": "ProgressView",
            "bar_style": "success",
            "description": "",
            "description_tooltip": null,
            "layout": "IPY_MODEL_00af3f74eb2146cb8859070b5b100765",
            "max": 299,
            "min": 0,
            "orientation": "horizontal",
            "style": "IPY_MODEL_cee01f816c35466aabc2008125a9278b",
            "value": 299
          }
        },
        "c7a9566d9b2646beaa909e013a20bc30": {
          "model_module": "@jupyter-widgets/controls",
          "model_module_version": "1.5.0",
          "model_name": "ProgressStyleModel",
          "state": {
            "_model_module": "@jupyter-widgets/controls",
            "_model_module_version": "1.5.0",
            "_model_name": "ProgressStyleModel",
            "_view_count": null,
            "_view_module": "@jupyter-widgets/base",
            "_view_module_version": "1.2.0",
            "_view_name": "StyleView",
            "bar_color": null,
            "description_width": ""
          }
        },
        "cee01f816c35466aabc2008125a9278b": {
          "model_module": "@jupyter-widgets/controls",
          "model_module_version": "1.5.0",
          "model_name": "ProgressStyleModel",
          "state": {
            "_model_module": "@jupyter-widgets/controls",
            "_model_module_version": "1.5.0",
            "_model_name": "ProgressStyleModel",
            "_view_count": null,
            "_view_module": "@jupyter-widgets/base",
            "_view_module_version": "1.2.0",
            "_view_name": "StyleView",
            "bar_color": null,
            "description_width": ""
          }
        },
        "d2cd424cd9b64883a117f2bac8ec7d6c": {
          "model_module": "@jupyter-widgets/base",
          "model_module_version": "1.2.0",
          "model_name": "LayoutModel",
          "state": {
            "_model_module": "@jupyter-widgets/base",
            "_model_module_version": "1.2.0",
            "_model_name": "LayoutModel",
            "_view_count": null,
            "_view_module": "@jupyter-widgets/base",
            "_view_module_version": "1.2.0",
            "_view_name": "LayoutView",
            "align_content": null,
            "align_items": null,
            "align_self": null,
            "border": null,
            "bottom": null,
            "display": null,
            "flex": null,
            "flex_flow": null,
            "grid_area": null,
            "grid_auto_columns": null,
            "grid_auto_flow": null,
            "grid_auto_rows": null,
            "grid_column": null,
            "grid_gap": null,
            "grid_row": null,
            "grid_template_areas": null,
            "grid_template_columns": null,
            "grid_template_rows": null,
            "height": null,
            "justify_content": null,
            "justify_items": null,
            "left": null,
            "margin": null,
            "max_height": null,
            "max_width": null,
            "min_height": null,
            "min_width": null,
            "object_fit": null,
            "object_position": null,
            "order": null,
            "overflow": null,
            "overflow_x": null,
            "overflow_y": null,
            "padding": null,
            "right": null,
            "top": null,
            "visibility": null,
            "width": null
          }
        },
        "fef2c2f19b24437abeba05878fa414f7": {
          "model_module": "@jupyter-widgets/controls",
          "model_module_version": "1.5.0",
          "model_name": "FloatProgressModel",
          "state": {
            "_dom_classes": [],
            "_model_module": "@jupyter-widgets/controls",
            "_model_module_version": "1.5.0",
            "_model_name": "FloatProgressModel",
            "_view_count": null,
            "_view_module": "@jupyter-widgets/controls",
            "_view_module_version": "1.5.0",
            "_view_name": "ProgressView",
            "bar_style": "success",
            "description": "",
            "description_tooltip": null,
            "layout": "IPY_MODEL_2e1ee71260134f528aed3c42c8bf17fc",
            "max": 2039,
            "min": 0,
            "orientation": "horizontal",
            "style": "IPY_MODEL_c7a9566d9b2646beaa909e013a20bc30",
            "value": 2039
          }
        }
      }
    }
  },
  "nbformat": 4,
  "nbformat_minor": 0
}
