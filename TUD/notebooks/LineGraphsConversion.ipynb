{
 "cells": [
  {
   "cell_type": "code",
   "execution_count": 1,
   "id": "5e5af2a1",
   "metadata": {},
   "outputs": [],
   "source": [
    "#!pip install python-igraph"
   ]
  },
  {
   "cell_type": "markdown",
   "id": "21ebeba6",
   "metadata": {
    "id": "LG8i_GOyUlxv"
   },
   "source": [
    "# Load the graphs"
   ]
  },
  {
   "cell_type": "code",
   "execution_count": 1,
   "id": "f37301d6",
   "metadata": {
    "colab": {
     "base_uri": "https://localhost:8080/",
     "height": 49,
     "referenced_widgets": [
      "85171665569446b59009412fdb03a976",
      "55fb64eb3cfa407fbbfaabace9d2304f",
      "fe46446230104fc881cf610bf414f470",
      "7b65c7e37a1345b185c4009d595cc515",
      "344c7fe5b7054e9a8723932d4a10d503",
      "229ca0dae39d442989544aa5ffa74550",
      "3ca87edafe3a4ee2859d30decd52baf3",
      "6285e09cee044b9893e1f30740f2f49d",
      "3bd5b98d001648dc8080334a7c33af44",
      "42b02fcf2b7648ada6bf9f24c3d60daa",
      "a188459911ca4908b6639fce694dadc0"
     ]
    },
    "id": "G00aOfMeUp9A",
    "outputId": "85457c7a-e182-4597-a23b-50107e60338c"
   },
   "outputs": [
    {
     "name": "stderr",
     "output_type": "stream",
     "text": [
      "100%|██████████| 299/299 [00:04<00:00, 71.09it/s]\n"
     ]
    }
   ],
   "source": [
    "#@title  { form-width: \"30%\" }\n",
    "import tqdm as tq\n",
    "import igraph as ig \n",
    "import os\n",
    "\n",
    "datapath = \"/Volumes/GoogleDrive/Il Mio Drive/TUDatasets\" #@param {type:\"string\"}\n",
    "dataset = \"Kidney_9.2\" #@param [\"Mutag\", \"LFR\", \"MREG\", \"Kidney_9.2\", \"COBREpos\"] {allow-input: true}\n",
    "format = \"graphml\" #@param [\"graphml\", \"edgelist\"] {allow-input: true}\n",
    "path = f'{datapath}/{dataset}/{format}'\n",
    "filenames = os.listdir(path)\n",
    "graphs = []\n",
    "for f in tq.tqdm(filenames):\n",
    "  if f.endswith(format):\n",
    "    g = ig.load(os.path.join(path,f))\n",
    "    g[\"name\"] = f.split('.')[0]\n",
    "    graphs += [g]"
   ]
  },
  {
   "cell_type": "code",
   "execution_count": 61,
   "id": "acabff05",
   "metadata": {},
   "outputs": [
    {
     "data": {
      "text/plain": [
       "'1'"
      ]
     },
     "execution_count": 61,
     "metadata": {},
     "output_type": "execute_result"
    }
   ],
   "source": [
    "graphs[0].vs[1]['id']"
   ]
  },
  {
   "cell_type": "markdown",
   "id": "6a30a7d7",
   "metadata": {},
   "source": [
    "# Line Graph transformers"
   ]
  },
  {
   "cell_type": "code",
   "execution_count": 149,
   "id": "d47ff1c9",
   "metadata": {},
   "outputs": [],
   "source": [
    "def add_vertex_with_attrs(graph, attrs):\n",
    "    n = graph.vcount()\n",
    "    graph.add_vertices(1)\n",
    "    for key, value in attrs.items():\n",
    "        graph.vs[n][key] = value\n",
    "\n",
    "def linegraph(g, nodeattr='name',debug=False):\n",
    "    if nodeattr in g.attributes():\n",
    "      raise ValueError(f'\"{nodeattr}\" is already a graph attribute... choose another one to store vertex names')\n",
    "    dg = ig.Graph(directed=True) if g.is_directed() else ig.Graph() \n",
    "    for edge in g.es:\n",
    "        edge_attrs = edge.attributes()\n",
    "        edge_attrs[nodeattr] = set([int(edge.source),int(edge.target)]) # node name is the set of edge bounds\n",
    "        if debug: print(edge_attrs)\n",
    "        add_vertex_with_attrs(dg, edge_attrs)\n",
    "    nodenames = dg.vs.get_attribute_values(nodeattr)\n",
    "    for i in range(dg.vcount()):\n",
    "      name = nodenames[i]\n",
    "      for n in nodenames:\n",
    "        common = name.intersection(n)\n",
    "        if len(common) > 0 and n != name:\n",
    "          nodeobj = dg.vs.find(**{nodeattr : name})\n",
    "          nobj = dg.vs.find(**{nodeattr : n})\n",
    "          if debug: print(n,name,common,{nodeattr : name},{nodeattr : n}, nodeobj.index, nobj.index)\n",
    "          eattrvals = g.vs[common.pop()].attributes()\n",
    "          if not dg.are_connected(nodeobj, nobj): dg.add_edge(nodeobj,nobj, **eattrvals) \n",
    "    return dg"
   ]
  },
  {
   "cell_type": "code",
   "execution_count": 151,
   "id": "958d8f91",
   "metadata": {},
   "outputs": [
    {
     "name": "stderr",
     "output_type": "stream",
     "text": [
      "100%|██████████| 1/1 [02:22<00:00, 142.45s/it]\n"
     ]
    }
   ],
   "source": [
    "linegraphs = []\n",
    "for g in tq.tqdm(graphs):\n",
    "    linegraphs += [linegraph(g, nodeattr='id')]"
   ]
  },
  {
   "cell_type": "markdown",
   "id": "4af0414b",
   "metadata": {},
   "source": [
    "# Save line graphs (in graphml format)"
   ]
  },
  {
   "cell_type": "code",
   "execution_count": null,
   "id": "a0692dfb",
   "metadata": {},
   "outputs": [],
   "source": [
    "for i,g in enumerate(tq.tqdm(linegraphs)):\n",
    "    g.write_graphml(f'../../GraphML/datasets/YENDIK/graphml/YENDIK_{i+1}.grahml')"
   ]
  }
 ],
 "metadata": {
  "kernelspec": {
   "display_name": "Python 3",
   "language": "python",
   "name": "python3"
  },
  "language_info": {
   "codemirror_mode": {
    "name": "ipython",
    "version": 3
   },
   "file_extension": ".py",
   "mimetype": "text/x-python",
   "name": "python",
   "nbconvert_exporter": "python",
   "pygments_lexer": "ipython3",
   "version": "3.8.3"
  }
 },
 "nbformat": 4,
 "nbformat_minor": 5
}
