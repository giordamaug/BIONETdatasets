{
  "cells": [
    {
      "cell_type": "markdown",
      "metadata": {},
      "source": [
        "<a href=\"https://colab.research.google.com/github/giordamaug/BIONETdatasets/blob/main/TUD/notebooks/NetWL2Vec example.ipynb\" target=\"_parent\"><img src=\"https://colab.research.google.com/assets/colab-badge.svg\" alt=\"Open In Colab\"/></a>\n",
        "[![Binder](https://mybinder.org/badge_logo.svg)](https://mybinder.org/v2/gh/giordamaug/BIONETdatasets/main?filepath=TUD%2Fnotebooks%2FNetWL2Vec+example.ipynb)\n",
        "<a href=\"https://kaggle.com/kernels/welcome?src=https://github.com/giordamaug/BIONETdatasets/blob/main/TUD/notebooks/NetWL2Vec example.ipynb\" target=\"_parent\"><img src=\"https://kaggle.com/static/images/open-in-kaggle.svg\" alt=\"Open In Kaggle\"/></a>"
      ]
    },
    {
      "cell_type": "markdown",
      "metadata": {
        "id": "kux3bRpFEEoM"
      },
      "source": [
        "# Cloning BIONETdatasets repository"
      ]
    },
    {
      "cell_type": "code",
      "execution_count": null,
      "metadata": {
        "id": "_CemjxolD1na"
      },
      "outputs": [],
      "source": [
        "!git clone http://github.com/giordamaug/BIONETdatasets"
      ]
    },
    {
      "cell_type": "markdown",
      "metadata": {},
      "source": [
        "# Install Netpro2vec and python-igraph (if required)"
      ]
    },
    {
      "cell_type": "code",
      "execution_count": 1,
      "metadata": {},
      "outputs": [
        {
          "name": "stdout",
          "output_type": "stream",
          "text": [
            "\u001b[33mDEPRECATION: Configuring installation scheme with distutils config files is deprecated and will no longer work in the near future. If you are using a Homebrew or Linuxbrew Python, please see discussion at https://github.com/Homebrew/homebrew-core/issues/76621\u001b[0m\n"
          ]
        }
      ],
      "source": [
        "# Install python-igraph (if required)\n",
        "!pip install -q git+https://github.com/cds-group/Netpro2vec.git\n",
        "!pip install -q python-igraph"
      ]
    },
    {
      "cell_type": "markdown",
      "metadata": {},
      "source": [
        "# Load the dataset"
      ]
    },
    {
      "cell_type": "code",
      "execution_count": 31,
      "metadata": {},
      "outputs": [
        {
          "name": "stderr",
          "output_type": "stream",
          "text": [
            "Getting node indices:: 100%|██████████| 188/188 [00:00<00:00, 6044.64it/s]\n",
            "Loading nodes:: 100%|██████████| 188/188 [00:00<00:00, 15164.90it/s]\n",
            "Loading edges:: 100%|██████████| 7442/7442 [00:00<00:00, 107391.22it/s]"
          ]
        },
        {
          "name": "stdout",
          "output_type": "stream",
          "text": [
            "Loading node labels...\n",
            "Loading edge labels...\n",
            "Loading graph labels...\n",
            "IGRAPH UN-- 17 19 -- MUTAG_1\n",
            "+ attr: class (g), name (g), label (v), name (v), label (e)\n",
            "+ edges (vertex names):\n",
            "0--1, 1--2, 2--3, 3--4, 4--5, 0--5, 4--6, 6--7, 7--8, 8--9, 3--9, 9--10,\n",
            "10--11, 11--12, 12--13, 8--13, 12--14, 14--15, 14--16\n"
          ]
        },
        {
          "name": "stderr",
          "output_type": "stream",
          "text": [
            "\n"
          ]
        }
      ],
      "source": [
        "dataname = 'MUTAG'\n",
        "import sys, os\n",
        "sys.path.append(os.path.abspath('BIONETdatasets/TUD'))\n",
        "sys.path.append(os.path.abspath('..'))\n",
        "sys.path.append(os.path.abspath('../../methods'))\n",
        "from wrappers.igraph_wrapper import MyTUDataset\n",
        "import shutil\n",
        "shutil.unpack_archive(f'../datasets/{dataname}.zip')\n",
        "#shutil.unpack_archive(f'BIONETdatasets/TUD/datasets/{dataname}.zip')\n",
        "dataset = MyTUDataset(dataname, path=f'{dataname}', verbose=True)\n",
        "print(dataset.graph_list[0])"
      ]
    },
    {
      "cell_type": "markdown",
      "metadata": {},
      "source": [
        "# Create model and evaluate"
      ]
    },
    {
      "cell_type": "code",
      "execution_count": 83,
      "metadata": {},
      "outputs": [
        {
          "name": "stderr",
          "output_type": "stream",
          "text": [
            "Getting node indices:: 100%|██████████| 188/188 [00:00<00:00, 23382.53it/s]\n",
            "Loading nodes:: 100%|██████████| 188/188 [00:00<00:00, 50728.84it/s]\n",
            "Loading edges:: 100%|██████████| 7442/7442 [00:00<00:00, 38823.54it/s]"
          ]
        },
        {
          "name": "stdout",
          "output_type": "stream",
          "text": [
            "Loading node labels...\n",
            "Loading edge labels...\n",
            "Loading graph labels...\n",
            "Graph named 'MUTAG_1' with 17 nodes and 19 edges\n"
          ]
        },
        {
          "name": "stderr",
          "output_type": "stream",
          "text": [
            "\n"
          ]
        }
      ],
      "source": [
        "dataname = 'MUTAG'\n",
        "import sys, os\n",
        "sys.path.append(os.path.abspath('BIONETdatasets/TUD'))\n",
        "sys.path.append(os.path.abspath('..'))\n",
        "from wrappers.networkx_wrapper import MyTUDataset\n",
        "import shutil\n",
        "shutil.unpack_archive(f'../datasets/{dataname}.zip')\n",
        "#shutil.unpack_archive(f'BIONETdatasets/TUD/datasets/{dataname}.zip')\n",
        "dataset = MyTUDataset(dataname, path=f'{dataname}', verbose=True)\n",
        "print(dataset.graph_list[0])"
      ]
    },
    {
      "cell_type": "code",
      "execution_count": 93,
      "metadata": {},
      "outputs": [
        {
          "name": "stdout",
          "output_type": "stream",
          "text": [
            "deleting\n",
            "TRANSDUCTIVE EMBEDDING:\n",
            "[[ 4  3]\n",
            " [ 0 12]] Acc. 0.8421052631578947\n",
            "52\n"
          ]
        },
        {
          "data": {
            "text/plain": [
              "['4',\n",
              " '0cce1d019f4dfe3f7e302db488dffe57',\n",
              " 'dc882840a7cc3789e8107750e2efdc36',\n",
              " '6d431a0a91429563d630b5d8fadc4e59',\n",
              " '4',\n",
              " 'f4490329afa6428ebf9afd9005f27abf',\n",
              " 'b3a2337249583f88e793adf89f051b5c',\n",
              " 'a8a30605b677696f9d8124c1bba3f9fe',\n",
              " '5',\n",
              " 'daf0ea2428a35efce0f888355b911b7b',\n",
              " 'c8df4cac549023c512764bc498ec5fe1',\n",
              " 'b09a2538ebe67d2036707e8f4002b786',\n",
              " '4',\n",
              " 'f4490329afa6428ebf9afd9005f27abf',\n",
              " 'b3a2337249583f88e793adf89f051b5c',\n",
              " '2e47138c1ce882be5e90e002f2e64db3',\n",
              " '4',\n",
              " '0cce1d019f4dfe3f7e302db488dffe57',\n",
              " 'd2f28a9d851e79d522463d5b5186f3f8',\n",
              " '381773c161d0afc2aa6b4f00b39af7b2',\n",
              " '4',\n",
              " '0cce1d019f4dfe3f7e302db488dffe57',\n",
              " 'd2f28a9d851e79d522463d5b5186f3f8',\n",
              " 'a070aad4ed720ef1d1359a8dd7f6b15d',\n",
              " '4',\n",
              " 'f4490329afa6428ebf9afd9005f27abf',\n",
              " 'cd91549c92600d50c643cc771e36d017',\n",
              " '3a7ab5ecf88b5287167d95e63af22ac9',\n",
              " '5',\n",
              " '101640cf30a7e8aa5631df7b2fe6afba',\n",
              " '0671e6c7d11e6473200d57a7192db7d0',\n",
              " 'f11d533f30c9139270b3c85eb3981273',\n",
              " '5',\n",
              " '101640cf30a7e8aa5631df7b2fe6afba',\n",
              " '05839a0844503a4b0775fb18bd101718',\n",
              " 'efe89fff0f292fce9a1619e210380e28',\n",
              " '4',\n",
              " 'f4490329afa6428ebf9afd9005f27abf',\n",
              " 'cd91549c92600d50c643cc771e36d017',\n",
              " 'e60453d06dec91e209f680ea6e5f2ada',\n",
              " '5',\n",
              " '561b3fb1e310ef0f3775af1a5b41f1e9',\n",
              " '7f3a05a5f7b0ce3251debb2d8e43911d',\n",
              " 'fd8f81de9f8e2ce7616494fc0a300127',\n",
              " '3',\n",
              " '9dafdb095db58e4fb4a689fb082bb849',\n",
              " '366f2a0afb1375b2676325d70a41f25e',\n",
              " '8d4417b5304ecb6ee57fcf376a0dfbc4',\n",
              " '3',\n",
              " '9dafdb095db58e4fb4a689fb082bb849',\n",
              " '366f2a0afb1375b2676325d70a41f25e',\n",
              " '8d4417b5304ecb6ee57fcf376a0dfbc4']"
            ]
          },
          "execution_count": 93,
          "metadata": {},
          "output_type": "execute_result"
        }
      ],
      "source": [
        "import sys, os\n",
        "import numpy as np\n",
        "sys.path.append(os.path.abspath('BIONETdatasets/methods'))\n",
        "if 'netwld2v.Netwld2v' in sys.modules:  \n",
        "    print(\"deleting\")\n",
        "    del sys.modules[\"netwld2v.Netwld2v\"]\n",
        "from netwld2v.Netwld2v import Netwld2v\n",
        "from netwld2v.graph2vec import Graph2Vec\n",
        "\n",
        "from sklearn.model_selection import train_test_split\n",
        "from sklearn.svm import SVC\n",
        "from sklearn.metrics import confusion_matrix, accuracy_score, roc_auc_score\n",
        "from wrappers.igraph_wrapper import MyTUDataset\n",
        "\n",
        "# Set optimal params\n",
        "#params = {\"annotation\" : 'degree', \"wl_iterations\" : 2, \"dimensions\": 128, \"epochs\": 100, \"min_count\": 2,  \"seed\": 1, \"verbose\": True, \"vertex_attribute\": 'label', \"workers\": 4}\n",
        "params = {\"wl_iterations\" : 3, \"dimensions\": 128, \"epochs\": 100, \"min_count\": 2,  \"seed\": 1, \"workers\": 4}\n",
        "# Transductive embedding\n",
        "print(\"TRANSDUCTIVE EMBEDDING:\")\n",
        "model = Graph2Vec(**params)\n",
        "model.fit(dataset.graph_list)\n",
        "X = model.get_embedding()\n",
        "y = dataset.graph_labels\n",
        "X_train, X_test, y_train, y_test = train_test_split(X, y, test_size=0.10, random_state=42)\n",
        "clf = SVC(kernel='linear')\n",
        "preds = clf.fit(X_train,y_train).predict(X_test)\n",
        "print(confusion_matrix(y_test, preds),f'Acc. {accuracy_score(y_test, preds)}')\n",
        "# Inductive embedding\n",
        "print(len(model.get_documents()[1].words))\n",
        "model.get_documents()[1].words"
      ]
    }
  ],
  "metadata": {
    "colab": {
      "name": "NetPro2Vec example.ipynb",
      "provenance": []
    },
    "interpreter": {
      "hash": "bc6e667b201477635ba32fc377e71e93fe0ce3fc2d2fb508931525558f52d375"
    },
    "kernelspec": {
      "display_name": "Python 3.8.3 64-bit ('base': conda)",
      "name": "python3"
    },
    "language_info": {
      "codemirror_mode": {
        "name": "ipython",
        "version": 3
      },
      "file_extension": ".py",
      "mimetype": "text/x-python",
      "name": "python",
      "nbconvert_exporter": "python",
      "pygments_lexer": "ipython3",
      "version": "3.8.3"
    },
    "widgets": {
      "application/vnd.jupyter.widget-state+json": {
        "00af3f74eb2146cb8859070b5b100765": {
          "model_module": "@jupyter-widgets/base",
          "model_module_version": "1.2.0",
          "model_name": "LayoutModel",
          "state": {
            "_model_module": "@jupyter-widgets/base",
            "_model_module_version": "1.2.0",
            "_model_name": "LayoutModel",
            "_view_count": null,
            "_view_module": "@jupyter-widgets/base",
            "_view_module_version": "1.2.0",
            "_view_name": "LayoutView",
            "align_content": null,
            "align_items": null,
            "align_self": null,
            "border": null,
            "bottom": null,
            "display": null,
            "flex": null,
            "flex_flow": null,
            "grid_area": null,
            "grid_auto_columns": null,
            "grid_auto_flow": null,
            "grid_auto_rows": null,
            "grid_column": null,
            "grid_gap": null,
            "grid_row": null,
            "grid_template_areas": null,
            "grid_template_columns": null,
            "grid_template_rows": null,
            "height": null,
            "justify_content": null,
            "justify_items": null,
            "left": null,
            "margin": null,
            "max_height": null,
            "max_width": null,
            "min_height": null,
            "min_width": null,
            "object_fit": null,
            "object_position": null,
            "order": null,
            "overflow": null,
            "overflow_x": null,
            "overflow_y": null,
            "padding": null,
            "right": null,
            "top": null,
            "visibility": null,
            "width": null
          }
        },
        "04e81c2e76034774866591cdc9b61f21": {
          "model_module": "@jupyter-widgets/controls",
          "model_module_version": "1.5.0",
          "model_name": "DescriptionStyleModel",
          "state": {
            "_model_module": "@jupyter-widgets/controls",
            "_model_module_version": "1.5.0",
            "_model_name": "DescriptionStyleModel",
            "_view_count": null,
            "_view_module": "@jupyter-widgets/base",
            "_view_module_version": "1.2.0",
            "_view_name": "StyleView",
            "description_width": ""
          }
        },
        "0ca16a072b294a63be7c2038e302cb26": {
          "model_module": "@jupyter-widgets/controls",
          "model_module_version": "1.5.0",
          "model_name": "DescriptionStyleModel",
          "state": {
            "_model_module": "@jupyter-widgets/controls",
            "_model_module_version": "1.5.0",
            "_model_name": "DescriptionStyleModel",
            "_view_count": null,
            "_view_module": "@jupyter-widgets/base",
            "_view_module_version": "1.2.0",
            "_view_name": "StyleView",
            "description_width": ""
          }
        },
        "0d27ea473b39453480daa7161a99f800": {
          "model_module": "@jupyter-widgets/controls",
          "model_module_version": "1.5.0",
          "model_name": "HBoxModel",
          "state": {
            "_dom_classes": [],
            "_model_module": "@jupyter-widgets/controls",
            "_model_module_version": "1.5.0",
            "_model_name": "HBoxModel",
            "_view_count": null,
            "_view_module": "@jupyter-widgets/controls",
            "_view_module_version": "1.5.0",
            "_view_name": "HBoxView",
            "box_style": "",
            "children": [
              "IPY_MODEL_730959b7ad1e4e8bb3f6147daec9c767",
              "IPY_MODEL_bb4f1ab706194c6ab44d716272d62f07",
              "IPY_MODEL_4552124c00eb42d0afdbbfeb35817e2f"
            ],
            "layout": "IPY_MODEL_141e692526cc419a91735aa1ca19041c"
          }
        },
        "141e692526cc419a91735aa1ca19041c": {
          "model_module": "@jupyter-widgets/base",
          "model_module_version": "1.2.0",
          "model_name": "LayoutModel",
          "state": {
            "_model_module": "@jupyter-widgets/base",
            "_model_module_version": "1.2.0",
            "_model_name": "LayoutModel",
            "_view_count": null,
            "_view_module": "@jupyter-widgets/base",
            "_view_module_version": "1.2.0",
            "_view_name": "LayoutView",
            "align_content": null,
            "align_items": null,
            "align_self": null,
            "border": null,
            "bottom": null,
            "display": null,
            "flex": null,
            "flex_flow": null,
            "grid_area": null,
            "grid_auto_columns": null,
            "grid_auto_flow": null,
            "grid_auto_rows": null,
            "grid_column": null,
            "grid_gap": null,
            "grid_row": null,
            "grid_template_areas": null,
            "grid_template_columns": null,
            "grid_template_rows": null,
            "height": null,
            "justify_content": null,
            "justify_items": null,
            "left": null,
            "margin": null,
            "max_height": null,
            "max_width": null,
            "min_height": null,
            "min_width": null,
            "object_fit": null,
            "object_position": null,
            "order": null,
            "overflow": null,
            "overflow_x": null,
            "overflow_y": null,
            "padding": null,
            "right": null,
            "top": null,
            "visibility": null,
            "width": null
          }
        },
        "260ba4200336427ca82df05eed8489bc": {
          "model_module": "@jupyter-widgets/controls",
          "model_module_version": "1.5.0",
          "model_name": "HTMLModel",
          "state": {
            "_dom_classes": [],
            "_model_module": "@jupyter-widgets/controls",
            "_model_module_version": "1.5.0",
            "_model_name": "HTMLModel",
            "_view_count": null,
            "_view_module": "@jupyter-widgets/controls",
            "_view_module_version": "1.5.0",
            "_view_name": "HTMLView",
            "description": "",
            "description_tooltip": null,
            "layout": "IPY_MODEL_a6c1a10031c04e8a8191f8fa3cd0a167",
            "placeholder": "​",
            "style": "IPY_MODEL_6fe72a24a76d4a839f0b45d1965cb3a3",
            "value": "100%"
          }
        },
        "2e1ee71260134f528aed3c42c8bf17fc": {
          "model_module": "@jupyter-widgets/base",
          "model_module_version": "1.2.0",
          "model_name": "LayoutModel",
          "state": {
            "_model_module": "@jupyter-widgets/base",
            "_model_module_version": "1.2.0",
            "_model_name": "LayoutModel",
            "_view_count": null,
            "_view_module": "@jupyter-widgets/base",
            "_view_module_version": "1.2.0",
            "_view_name": "LayoutView",
            "align_content": null,
            "align_items": null,
            "align_self": null,
            "border": null,
            "bottom": null,
            "display": null,
            "flex": null,
            "flex_flow": null,
            "grid_area": null,
            "grid_auto_columns": null,
            "grid_auto_flow": null,
            "grid_auto_rows": null,
            "grid_column": null,
            "grid_gap": null,
            "grid_row": null,
            "grid_template_areas": null,
            "grid_template_columns": null,
            "grid_template_rows": null,
            "height": null,
            "justify_content": null,
            "justify_items": null,
            "left": null,
            "margin": null,
            "max_height": null,
            "max_width": null,
            "min_height": null,
            "min_width": null,
            "object_fit": null,
            "object_position": null,
            "order": null,
            "overflow": null,
            "overflow_x": null,
            "overflow_y": null,
            "padding": null,
            "right": null,
            "top": null,
            "visibility": null,
            "width": null
          }
        },
        "3a65aee3fc8e4b6b9423509c03b10258": {
          "model_module": "@jupyter-widgets/base",
          "model_module_version": "1.2.0",
          "model_name": "LayoutModel",
          "state": {
            "_model_module": "@jupyter-widgets/base",
            "_model_module_version": "1.2.0",
            "_model_name": "LayoutModel",
            "_view_count": null,
            "_view_module": "@jupyter-widgets/base",
            "_view_module_version": "1.2.0",
            "_view_name": "LayoutView",
            "align_content": null,
            "align_items": null,
            "align_self": null,
            "border": null,
            "bottom": null,
            "display": null,
            "flex": null,
            "flex_flow": null,
            "grid_area": null,
            "grid_auto_columns": null,
            "grid_auto_flow": null,
            "grid_auto_rows": null,
            "grid_column": null,
            "grid_gap": null,
            "grid_row": null,
            "grid_template_areas": null,
            "grid_template_columns": null,
            "grid_template_rows": null,
            "height": null,
            "justify_content": null,
            "justify_items": null,
            "left": null,
            "margin": null,
            "max_height": null,
            "max_width": null,
            "min_height": null,
            "min_width": null,
            "object_fit": null,
            "object_position": null,
            "order": null,
            "overflow": null,
            "overflow_x": null,
            "overflow_y": null,
            "padding": null,
            "right": null,
            "top": null,
            "visibility": null,
            "width": null
          }
        },
        "4552124c00eb42d0afdbbfeb35817e2f": {
          "model_module": "@jupyter-widgets/controls",
          "model_module_version": "1.5.0",
          "model_name": "HTMLModel",
          "state": {
            "_dom_classes": [],
            "_model_module": "@jupyter-widgets/controls",
            "_model_module_version": "1.5.0",
            "_model_name": "HTMLModel",
            "_view_count": null,
            "_view_module": "@jupyter-widgets/controls",
            "_view_module_version": "1.5.0",
            "_view_name": "HTMLView",
            "description": "",
            "description_tooltip": null,
            "layout": "IPY_MODEL_b55af098d5574c549d938f4b0cdd182a",
            "placeholder": "​",
            "style": "IPY_MODEL_4931577c69184c2f9a2fd2b677e50f8d",
            "value": " 299/299 [00:24&lt;00:00, 12.51it/s]"
          }
        },
        "4931577c69184c2f9a2fd2b677e50f8d": {
          "model_module": "@jupyter-widgets/controls",
          "model_module_version": "1.5.0",
          "model_name": "DescriptionStyleModel",
          "state": {
            "_model_module": "@jupyter-widgets/controls",
            "_model_module_version": "1.5.0",
            "_model_name": "DescriptionStyleModel",
            "_view_count": null,
            "_view_module": "@jupyter-widgets/base",
            "_view_module_version": "1.2.0",
            "_view_name": "StyleView",
            "description_width": ""
          }
        },
        "52d91218eabd4f06839f860ae853363f": {
          "model_module": "@jupyter-widgets/base",
          "model_module_version": "1.2.0",
          "model_name": "LayoutModel",
          "state": {
            "_model_module": "@jupyter-widgets/base",
            "_model_module_version": "1.2.0",
            "_model_name": "LayoutModel",
            "_view_count": null,
            "_view_module": "@jupyter-widgets/base",
            "_view_module_version": "1.2.0",
            "_view_name": "LayoutView",
            "align_content": null,
            "align_items": null,
            "align_self": null,
            "border": null,
            "bottom": null,
            "display": null,
            "flex": null,
            "flex_flow": null,
            "grid_area": null,
            "grid_auto_columns": null,
            "grid_auto_flow": null,
            "grid_auto_rows": null,
            "grid_column": null,
            "grid_gap": null,
            "grid_row": null,
            "grid_template_areas": null,
            "grid_template_columns": null,
            "grid_template_rows": null,
            "height": null,
            "justify_content": null,
            "justify_items": null,
            "left": null,
            "margin": null,
            "max_height": null,
            "max_width": null,
            "min_height": null,
            "min_width": null,
            "object_fit": null,
            "object_position": null,
            "order": null,
            "overflow": null,
            "overflow_x": null,
            "overflow_y": null,
            "padding": null,
            "right": null,
            "top": null,
            "visibility": null,
            "width": null
          }
        },
        "6b29a2cdcfd84ac1b554c484142d80a7": {
          "model_module": "@jupyter-widgets/controls",
          "model_module_version": "1.5.0",
          "model_name": "HTMLModel",
          "state": {
            "_dom_classes": [],
            "_model_module": "@jupyter-widgets/controls",
            "_model_module_version": "1.5.0",
            "_model_name": "HTMLModel",
            "_view_count": null,
            "_view_module": "@jupyter-widgets/controls",
            "_view_module_version": "1.5.0",
            "_view_name": "HTMLView",
            "description": "",
            "description_tooltip": null,
            "layout": "IPY_MODEL_52d91218eabd4f06839f860ae853363f",
            "placeholder": "​",
            "style": "IPY_MODEL_0ca16a072b294a63be7c2038e302cb26",
            "value": " 2039/2039 [00:01&lt;00:00, 1492.74it/s]"
          }
        },
        "6fe72a24a76d4a839f0b45d1965cb3a3": {
          "model_module": "@jupyter-widgets/controls",
          "model_module_version": "1.5.0",
          "model_name": "DescriptionStyleModel",
          "state": {
            "_model_module": "@jupyter-widgets/controls",
            "_model_module_version": "1.5.0",
            "_model_name": "DescriptionStyleModel",
            "_view_count": null,
            "_view_module": "@jupyter-widgets/base",
            "_view_module_version": "1.2.0",
            "_view_name": "StyleView",
            "description_width": ""
          }
        },
        "730959b7ad1e4e8bb3f6147daec9c767": {
          "model_module": "@jupyter-widgets/controls",
          "model_module_version": "1.5.0",
          "model_name": "HTMLModel",
          "state": {
            "_dom_classes": [],
            "_model_module": "@jupyter-widgets/controls",
            "_model_module_version": "1.5.0",
            "_model_name": "HTMLModel",
            "_view_count": null,
            "_view_module": "@jupyter-widgets/controls",
            "_view_module_version": "1.5.0",
            "_view_name": "HTMLView",
            "description": "",
            "description_tooltip": null,
            "layout": "IPY_MODEL_d2cd424cd9b64883a117f2bac8ec7d6c",
            "placeholder": "​",
            "style": "IPY_MODEL_04e81c2e76034774866591cdc9b61f21",
            "value": "100%"
          }
        },
        "a6c1a10031c04e8a8191f8fa3cd0a167": {
          "model_module": "@jupyter-widgets/base",
          "model_module_version": "1.2.0",
          "model_name": "LayoutModel",
          "state": {
            "_model_module": "@jupyter-widgets/base",
            "_model_module_version": "1.2.0",
            "_model_name": "LayoutModel",
            "_view_count": null,
            "_view_module": "@jupyter-widgets/base",
            "_view_module_version": "1.2.0",
            "_view_name": "LayoutView",
            "align_content": null,
            "align_items": null,
            "align_self": null,
            "border": null,
            "bottom": null,
            "display": null,
            "flex": null,
            "flex_flow": null,
            "grid_area": null,
            "grid_auto_columns": null,
            "grid_auto_flow": null,
            "grid_auto_rows": null,
            "grid_column": null,
            "grid_gap": null,
            "grid_row": null,
            "grid_template_areas": null,
            "grid_template_columns": null,
            "grid_template_rows": null,
            "height": null,
            "justify_content": null,
            "justify_items": null,
            "left": null,
            "margin": null,
            "max_height": null,
            "max_width": null,
            "min_height": null,
            "min_width": null,
            "object_fit": null,
            "object_position": null,
            "order": null,
            "overflow": null,
            "overflow_x": null,
            "overflow_y": null,
            "padding": null,
            "right": null,
            "top": null,
            "visibility": null,
            "width": null
          }
        },
        "a7fa487944d04b42b0f23278cc39ba8c": {
          "model_module": "@jupyter-widgets/controls",
          "model_module_version": "1.5.0",
          "model_name": "HBoxModel",
          "state": {
            "_dom_classes": [],
            "_model_module": "@jupyter-widgets/controls",
            "_model_module_version": "1.5.0",
            "_model_name": "HBoxModel",
            "_view_count": null,
            "_view_module": "@jupyter-widgets/controls",
            "_view_module_version": "1.5.0",
            "_view_name": "HBoxView",
            "box_style": "",
            "children": [
              "IPY_MODEL_260ba4200336427ca82df05eed8489bc",
              "IPY_MODEL_fef2c2f19b24437abeba05878fa414f7",
              "IPY_MODEL_6b29a2cdcfd84ac1b554c484142d80a7"
            ],
            "layout": "IPY_MODEL_3a65aee3fc8e4b6b9423509c03b10258"
          }
        },
        "b55af098d5574c549d938f4b0cdd182a": {
          "model_module": "@jupyter-widgets/base",
          "model_module_version": "1.2.0",
          "model_name": "LayoutModel",
          "state": {
            "_model_module": "@jupyter-widgets/base",
            "_model_module_version": "1.2.0",
            "_model_name": "LayoutModel",
            "_view_count": null,
            "_view_module": "@jupyter-widgets/base",
            "_view_module_version": "1.2.0",
            "_view_name": "LayoutView",
            "align_content": null,
            "align_items": null,
            "align_self": null,
            "border": null,
            "bottom": null,
            "display": null,
            "flex": null,
            "flex_flow": null,
            "grid_area": null,
            "grid_auto_columns": null,
            "grid_auto_flow": null,
            "grid_auto_rows": null,
            "grid_column": null,
            "grid_gap": null,
            "grid_row": null,
            "grid_template_areas": null,
            "grid_template_columns": null,
            "grid_template_rows": null,
            "height": null,
            "justify_content": null,
            "justify_items": null,
            "left": null,
            "margin": null,
            "max_height": null,
            "max_width": null,
            "min_height": null,
            "min_width": null,
            "object_fit": null,
            "object_position": null,
            "order": null,
            "overflow": null,
            "overflow_x": null,
            "overflow_y": null,
            "padding": null,
            "right": null,
            "top": null,
            "visibility": null,
            "width": null
          }
        },
        "bb4f1ab706194c6ab44d716272d62f07": {
          "model_module": "@jupyter-widgets/controls",
          "model_module_version": "1.5.0",
          "model_name": "FloatProgressModel",
          "state": {
            "_dom_classes": [],
            "_model_module": "@jupyter-widgets/controls",
            "_model_module_version": "1.5.0",
            "_model_name": "FloatProgressModel",
            "_view_count": null,
            "_view_module": "@jupyter-widgets/controls",
            "_view_module_version": "1.5.0",
            "_view_name": "ProgressView",
            "bar_style": "success",
            "description": "",
            "description_tooltip": null,
            "layout": "IPY_MODEL_00af3f74eb2146cb8859070b5b100765",
            "max": 299,
            "min": 0,
            "orientation": "horizontal",
            "style": "IPY_MODEL_cee01f816c35466aabc2008125a9278b",
            "value": 299
          }
        },
        "c7a9566d9b2646beaa909e013a20bc30": {
          "model_module": "@jupyter-widgets/controls",
          "model_module_version": "1.5.0",
          "model_name": "ProgressStyleModel",
          "state": {
            "_model_module": "@jupyter-widgets/controls",
            "_model_module_version": "1.5.0",
            "_model_name": "ProgressStyleModel",
            "_view_count": null,
            "_view_module": "@jupyter-widgets/base",
            "_view_module_version": "1.2.0",
            "_view_name": "StyleView",
            "bar_color": null,
            "description_width": ""
          }
        },
        "cee01f816c35466aabc2008125a9278b": {
          "model_module": "@jupyter-widgets/controls",
          "model_module_version": "1.5.0",
          "model_name": "ProgressStyleModel",
          "state": {
            "_model_module": "@jupyter-widgets/controls",
            "_model_module_version": "1.5.0",
            "_model_name": "ProgressStyleModel",
            "_view_count": null,
            "_view_module": "@jupyter-widgets/base",
            "_view_module_version": "1.2.0",
            "_view_name": "StyleView",
            "bar_color": null,
            "description_width": ""
          }
        },
        "d2cd424cd9b64883a117f2bac8ec7d6c": {
          "model_module": "@jupyter-widgets/base",
          "model_module_version": "1.2.0",
          "model_name": "LayoutModel",
          "state": {
            "_model_module": "@jupyter-widgets/base",
            "_model_module_version": "1.2.0",
            "_model_name": "LayoutModel",
            "_view_count": null,
            "_view_module": "@jupyter-widgets/base",
            "_view_module_version": "1.2.0",
            "_view_name": "LayoutView",
            "align_content": null,
            "align_items": null,
            "align_self": null,
            "border": null,
            "bottom": null,
            "display": null,
            "flex": null,
            "flex_flow": null,
            "grid_area": null,
            "grid_auto_columns": null,
            "grid_auto_flow": null,
            "grid_auto_rows": null,
            "grid_column": null,
            "grid_gap": null,
            "grid_row": null,
            "grid_template_areas": null,
            "grid_template_columns": null,
            "grid_template_rows": null,
            "height": null,
            "justify_content": null,
            "justify_items": null,
            "left": null,
            "margin": null,
            "max_height": null,
            "max_width": null,
            "min_height": null,
            "min_width": null,
            "object_fit": null,
            "object_position": null,
            "order": null,
            "overflow": null,
            "overflow_x": null,
            "overflow_y": null,
            "padding": null,
            "right": null,
            "top": null,
            "visibility": null,
            "width": null
          }
        },
        "fef2c2f19b24437abeba05878fa414f7": {
          "model_module": "@jupyter-widgets/controls",
          "model_module_version": "1.5.0",
          "model_name": "FloatProgressModel",
          "state": {
            "_dom_classes": [],
            "_model_module": "@jupyter-widgets/controls",
            "_model_module_version": "1.5.0",
            "_model_name": "FloatProgressModel",
            "_view_count": null,
            "_view_module": "@jupyter-widgets/controls",
            "_view_module_version": "1.5.0",
            "_view_name": "ProgressView",
            "bar_style": "success",
            "description": "",
            "description_tooltip": null,
            "layout": "IPY_MODEL_2e1ee71260134f528aed3c42c8bf17fc",
            "max": 2039,
            "min": 0,
            "orientation": "horizontal",
            "style": "IPY_MODEL_c7a9566d9b2646beaa909e013a20bc30",
            "value": 2039
          }
        }
      }
    }
  },
  "nbformat": 4,
  "nbformat_minor": 0
}
